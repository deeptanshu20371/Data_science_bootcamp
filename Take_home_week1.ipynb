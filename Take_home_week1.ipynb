{
  "nbformat": 4,
  "nbformat_minor": 0,
  "metadata": {
    "colab": {
      "provenance": []
    },
    "kernelspec": {
      "name": "python3",
      "display_name": "Python 3"
    },
    "language_info": {
      "name": "python"
    }
  },
  "cells": [
    {
      "cell_type": "markdown",
      "source": [
        "#Problem 1"
      ],
      "metadata": {
        "id": "a4n6tuSON3We"
      }
    },
    {
      "cell_type": "code",
      "execution_count": 2,
      "metadata": {
        "id": "BIErkeuvNu2j"
      },
      "outputs": [],
      "source": [
        "def count_vowels(str):\n",
        "    vowels = \"aeiouAEIOU\"\n",
        "    count = 0\n",
        "    for char in str:\n",
        "        if char in vowels:\n",
        "            count += 1\n",
        "    return count"
      ]
    },
    {
      "cell_type": "markdown",
      "source": [
        "# Problem 2\n"
      ],
      "metadata": {
        "id": "0v1DBDs-ODL5"
      }
    },
    {
      "cell_type": "code",
      "source": [
        "for animal in ['tiger', 'elephant', 'monkey', 'zebra', 'panther']:\n",
        "    print(animal.upper())"
      ],
      "metadata": {
        "colab": {
          "base_uri": "https://localhost:8080/"
        },
        "id": "iUxrhe9FOE2D",
        "outputId": "de0ae5dc-413d-4d30-cb1f-6c1e38cca48e"
      },
      "execution_count": 1,
      "outputs": [
        {
          "output_type": "stream",
          "name": "stdout",
          "text": [
            "TIGER\n",
            "ELEPHANT\n",
            "MONKEY\n",
            "ZEBRA\n",
            "PANTHER\n"
          ]
        }
      ]
    },
    {
      "cell_type": "markdown",
      "source": [
        "# Problem 3"
      ],
      "metadata": {
        "id": "v_L9kTsOOT5H"
      }
    },
    {
      "cell_type": "code",
      "source": [
        "for i in range(1, 21):\n",
        "    if i % 2 == 0:\n",
        "        print(f\"{i} : even\")\n",
        "    else:\n",
        "        print(f\"{i} : odd\")"
      ],
      "metadata": {
        "colab": {
          "base_uri": "https://localhost:8080/"
        },
        "id": "LVNNULCbOKv0",
        "outputId": "b332e6e0-9aac-48b8-9aae-9cf723a12df6"
      },
      "execution_count": 3,
      "outputs": [
        {
          "output_type": "stream",
          "name": "stdout",
          "text": [
            "1 : odd\n",
            "2 : even\n",
            "3 : odd\n",
            "4 : even\n",
            "5 : odd\n",
            "6 : even\n",
            "7 : odd\n",
            "8 : even\n",
            "9 : odd\n",
            "10 : even\n",
            "11 : odd\n",
            "12 : even\n",
            "13 : odd\n",
            "14 : even\n",
            "15 : odd\n",
            "16 : even\n",
            "17 : odd\n",
            "18 : even\n",
            "19 : odd\n",
            "20 : even\n"
          ]
        }
      ]
    },
    {
      "cell_type": "markdown",
      "source": [
        "# Problem 4"
      ],
      "metadata": {
        "id": "7oXmtQRJOhs-"
      }
    },
    {
      "cell_type": "code",
      "source": [
        "def sum_of_integers():\n",
        "    a = int(input(\"Enter the first integer: \"))\n",
        "    b = int(input(\"Enter the second integer: \"))\n",
        "    return a + b\n"
      ],
      "metadata": {
        "id": "prnF-ig5Og0E"
      },
      "execution_count": 4,
      "outputs": []
    }
  ]
}