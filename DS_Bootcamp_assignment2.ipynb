{
  "nbformat": 4,
  "nbformat_minor": 0,
  "metadata": {
    "colab": {
      "provenance": []
    },
    "kernelspec": {
      "name": "python3",
      "display_name": "Python 3"
    },
    "language_info": {
      "name": "python"
    }
  },
  "cells": [
    {
      "cell_type": "code",
      "source": [
        "import numpy as np\n",
        "import pandas as pd"
      ],
      "metadata": {
        "id": "tXcYSs2WF709"
      },
      "execution_count": 9,
      "outputs": []
    },
    {
      "cell_type": "code",
      "execution_count": 4,
      "metadata": {
        "colab": {
          "base_uri": "https://localhost:8080/"
        },
        "id": "sIv9LVnYF4a9",
        "outputId": "30edc8a0-f9cc-4433-9710-761c16abe758"
      },
      "outputs": [
        {
          "output_type": "stream",
          "name": "stdout",
          "text": [
            "Vertical Stack:\n",
            "[[ 1 12  3]\n",
            " [ 8  5  6]\n",
            " [ 7  3  9]\n",
            " [10  1  2]]\n",
            "Horizontal Stack:\n",
            "[[ 1 12  3  7  3  9]\n",
            " [ 8  5  6 10  1  2]]\n"
          ]
        }
      ],
      "source": [
        "A = np.array([[1, 12, 3],\n",
        "              [8, 5, 6]])\n",
        "\n",
        "B = np.array([[7, 3, 9],\n",
        "              [10, 1, 2]])\n",
        "\n",
        "vertical = np.vstack((A, B))\n",
        "horizontal = np.hstack((A, B))\n",
        "\n",
        "print(\"Vertical Stack:\")\n",
        "print(vertical)\n",
        "print(\"Horizontal Stack:\")\n",
        "print(horizontal)"
      ]
    },
    {
      "cell_type": "code",
      "source": [
        "common= np.intersect1d(A, B)\n",
        "print(\"Common elements between arrays A and B:\", common)"
      ],
      "metadata": {
        "colab": {
          "base_uri": "https://localhost:8080/"
        },
        "id": "FXJXMQoXGL1j",
        "outputId": "96dd0cb4-291a-4559-989b-ba9dc1f76998"
      },
      "execution_count": 6,
      "outputs": [
        {
          "output_type": "stream",
          "name": "stdout",
          "text": [
            "Common elements between arrays A and B: [1 3]\n"
          ]
        }
      ]
    },
    {
      "cell_type": "code",
      "source": [
        "temp = A[(A >= 5) & (A <= 10)]\n",
        "print(\"Numbers in A between 5 and 10:\", temp)"
      ],
      "metadata": {
        "colab": {
          "base_uri": "https://localhost:8080/"
        },
        "id": "PftQO3OCGTP5",
        "outputId": "9a717b2f-4434-41c4-a69b-6e2eeac3a2e7"
      },
      "execution_count": 7,
      "outputs": [
        {
          "output_type": "stream",
          "name": "stdout",
          "text": [
            "Numbers in A between 5 and 10: [8 5 6]\n"
          ]
        }
      ]
    },
    {
      "cell_type": "code",
      "source": [
        "data = np.genfromtxt('https://archive.ics.uci.edu/ml/machine-learning-databases/iris/iris.data', delimiter=',', dtype='float', usecols=[0, 1, 2, 3])\n",
        "\n",
        "filtered_rows = data[(data[:, 2] > 1.5) & (data[:, 0] < 5.0)]\n",
        "print(\"Filtered rows:\\n\", filtered_rows)"
      ],
      "metadata": {
        "colab": {
          "base_uri": "https://localhost:8080/"
        },
        "id": "bcK2rt6EGmp4",
        "outputId": "247e7276-6d2b-4153-bd04-4cfaf8e14a9d"
      },
      "execution_count": 8,
      "outputs": [
        {
          "output_type": "stream",
          "name": "stdout",
          "text": [
            "Filtered rows:\n",
            " [[4.8 3.4 1.6 0.2]\n",
            " [4.8 3.4 1.9 0.2]\n",
            " [4.7 3.2 1.6 0.2]\n",
            " [4.8 3.1 1.6 0.2]\n",
            " [4.9 2.4 3.3 1. ]\n",
            " [4.9 2.5 4.5 1.7]]\n"
          ]
        }
      ]
    },
    {
      "cell_type": "code",
      "source": [
        "df = pd.read_csv('https://raw.githubusercontent.com/selva86/datasets/master/Cars93_miss.csv')\n",
        "\n",
        "filtered_rows = df.loc[::20, ['Manufacturer', 'Model', 'Type']]\n",
        "print(filtered_rows)"
      ],
      "metadata": {
        "colab": {
          "base_uri": "https://localhost:8080/"
        },
        "id": "Y_PZQBTgG6Qo",
        "outputId": "5b9d922b-9f79-4775-f279-3a5e396cc0ad"
      },
      "execution_count": 33,
      "outputs": [
        {
          "output_type": "stream",
          "name": "stdout",
          "text": [
            "   Manufacturer    Model     Type\n",
            "0         Acura  Integra    Small\n",
            "20     Chrysler  LeBaron  Compact\n",
            "40        Honda  Prelude   Sporty\n",
            "60      Mercury   Cougar  Midsize\n",
            "80       Subaru   Loyale    Small\n"
          ]
        }
      ]
    },
    {
      "cell_type": "code",
      "source": [
        "df = pd.read_csv('https://raw.githubusercontent.com/selva86/datasets/master/Cars93_miss.csv')\n",
        "min_mean = df['Min.Price'].mean()\n",
        "max_mean = df['Max.Price'].mean()\n",
        "df['Min.Price'] = df['Min.Price'].fillna(min_mean)\n",
        "df['Max.Price'] = df['Max.Price'].fillna(max_mean)\n",
        "\n",
        "print(df[['Min.Price', 'Max.Price']].head())"
      ],
      "metadata": {
        "colab": {
          "base_uri": "https://localhost:8080/"
        },
        "id": "pztfoBVBHJuf",
        "outputId": "ebce6da4-c487-4bb6-8fb3-a158c124e764"
      },
      "execution_count": 39,
      "outputs": [
        {
          "output_type": "stream",
          "name": "stdout",
          "text": [
            "   Min.Price  Max.Price\n",
            "0  12.900000  18.800000\n",
            "1  29.200000  38.700000\n",
            "2  25.900000  32.300000\n",
            "3  17.118605  44.600000\n",
            "4  17.118605  21.459091\n"
          ]
        }
      ]
    },
    {
      "cell_type": "code",
      "source": [
        "df = pd.DataFrame(np.random.randint(10, 40, 60).reshape(-1, 4))\n",
        "filtered_rows = df[df.sum(axis=1) > 100]\n",
        "print(filtered_rows)"
      ],
      "metadata": {
        "colab": {
          "base_uri": "https://localhost:8080/"
        },
        "id": "u8dgHvNdHO-p",
        "outputId": "1c62cab1-f807-47ea-ce0c-1ba464d0ec54"
      },
      "execution_count": 40,
      "outputs": [
        {
          "output_type": "stream",
          "name": "stdout",
          "text": [
            "     0   1   2   3\n",
            "1   38  31  28  16\n",
            "4   19  33  33  32\n",
            "6   31  32  17  27\n",
            "9   30  32  15  25\n",
            "10  29  36  29  22\n",
            "13  25  33  37  31\n"
          ]
        }
      ]
    },
    {
      "cell_type": "code",
      "source": [],
      "metadata": {
        "id": "YvfthkthHZ83"
      },
      "execution_count": null,
      "outputs": []
    }
  ]
}